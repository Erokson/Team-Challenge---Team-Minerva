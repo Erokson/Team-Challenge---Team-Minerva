{
 "cells": [
  {
   "cell_type": "code",
   "execution_count": 1,
   "metadata": {},
   "outputs": [],
   "source": [
    "import pandas as pd\n",
    "import joblib"
   ]
  },
  {
   "cell_type": "code",
   "execution_count": 2,
   "metadata": {},
   "outputs": [],
   "source": [
    "def load_pipeline(model_path):\n",
    "    \"\"\"Carga el pipeline guardado y lo devuelve.\"\"\"\n",
    "    pipeline = joblib.load(model_path)\n",
    "    return pipeline"
   ]
  },
  {
   "cell_type": "code",
   "execution_count": 3,
   "metadata": {},
   "outputs": [],
   "source": [
    "def make_predictions(pipeline, data_path):\n",
    "    \"\"\"Carga los datos de prueba, ejecuta el pipeline y devuelve las predicciones.\"\"\"\n",
    "    df = pd.read_csv(data_path)\n",
    "    df['TotalCharges'] = pd.to_numeric(df['TotalCharges'], errors='coerce')\n",
    "    df.dropna(inplace=True)\n",
    "    \n",
    "    X_test = df.drop(columns=['Churn'])\n",
    "    predictions = pipeline.predict(X_test)\n",
    "    return predictions\n"
   ]
  },
  {
   "cell_type": "code",
   "execution_count": 4,
   "metadata": {},
   "outputs": [
    {
     "name": "stdout",
     "output_type": "stream",
     "text": [
      "Predicciones: ['No' 'No' 'Yes' ... 'No' 'Yes' 'No']\n"
     ]
    }
   ],
   "source": [
    "\n",
    "model_path = \"../models/rf_pipeline.pkl\"\n",
    "data_path = \"../data/WA_Fn-UseC_-Telco-Customer-Churn.csv\"\n",
    "\n",
    "pipeline = load_pipeline(model_path)\n",
    "predictions = make_predictions(pipeline, data_path)\n",
    "\n",
    "print(\"Predicciones:\", predictions)"
   ]
  },
  {
   "cell_type": "code",
   "execution_count": null,
   "metadata": {},
   "outputs": [],
   "source": []
  }
 ],
 "metadata": {
  "kernelspec": {
   "display_name": "Python 3",
   "language": "python",
   "name": "python3"
  },
  "language_info": {
   "codemirror_mode": {
    "name": "ipython",
    "version": 3
   },
   "file_extension": ".py",
   "mimetype": "text/x-python",
   "name": "python",
   "nbconvert_exporter": "python",
   "pygments_lexer": "ipython3",
   "version": "3.11.5"
  }
 },
 "nbformat": 4,
 "nbformat_minor": 2
}
